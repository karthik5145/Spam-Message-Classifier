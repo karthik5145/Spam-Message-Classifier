{
  "cells": [
    {
      "cell_type": "code",
      "execution_count": 2,
      "metadata": {
        "id": "SNDeRqCX-Rd4"
      },
      "outputs": [],
      "source": [
        "import pandas as pd\n",
        "import spacy\n",
        "from sklearn.feature_extraction.text import TfidfVectorizer\n",
        "from sklearn.model_selection import train_test_split\n",
        "from sklearn.ensemble import RandomForestClassifier\n",
        "from sklearn.metrics import classification_report, accuracy_score\n",
        "import joblib\n",
        "\n",
        "# Load the dataset\n",
        "file_path = \"/content/spam.csv\"  # Update the path to your file\n",
        "df = pd.read_csv(file_path, encoding='latin1')"
      ]
    },
    {
      "cell_type": "code",
      "execution_count": 3,
      "metadata": {
        "colab": {
          "base_uri": "https://localhost:8080/"
        },
        "id": "6HkLjNyAAPsM",
        "outputId": "0c784441-362f-47b5-9b65-5fdc1a918200"
      },
      "outputs": [
        {
          "name": "stdout",
          "output_type": "stream",
          "text": [
            "Mounted at /content/drive\n"
          ]
        }
      ],
      "source": [
        "from google.colab import drive\n",
        "drive.mount('/content/drive')"
      ]
    },
    {
      "cell_type": "code",
      "execution_count": 8,
      "metadata": {
        "id": "MKl22wwKAusk"
      },
      "outputs": [],
      "source": [
        "\n",
        "\n"
      ]
    },
    {
      "cell_type": "code",
      "execution_count": 10,
      "metadata": {
        "id": "gKSMQ8O1BESX"
      },
      "outputs": [],
      "source": [
        "from sklearn.preprocessing import LabelEncoder\n",
        "le = LabelEncoder()\n",
        "df['v1'] = le.fit_transform(df['v1'])  # ham -> 0, spam -> 1"
      ]
    },
    {
      "cell_type": "code",
      "execution_count": 11,
      "metadata": {
        "id": "TrLc6PYTBddD"
      },
      "outputs": [],
      "source": [
        "nlp = spacy.load('en_core_web_sm')"
      ]
    },
    {
      "cell_type": "code",
      "execution_count": 12,
      "metadata": {
        "id": "EZrf9i7wBer8"
      },
      "outputs": [],
      "source": [
        "def preprocess_text(text):\n",
        "    doc = nlp(text)\n",
        "    return ' '.join([token.lemma_ for token in doc if not token.is_stop and not token.is_punct])"
      ]
    },
    {
      "cell_type": "code",
      "execution_count": 13,
      "metadata": {
        "id": "C7Qfpd6OBiOG"
      },
      "outputs": [],
      "source": [
        "# Apply text preprocessing\n",
        "df['v2'] = df['v2'].apply(preprocess_text)\n",
        "\n",
        "\n",
        "\n",
        "\n"
      ]
    },
    {
      "cell_type": "code",
      "execution_count": 14,
      "metadata": {
        "id": "wU0-lvf1BtZT"
      },
      "outputs": [],
      "source": [
        "# TF-IDF Vectorization\n",
        "tfidf = TfidfVectorizer()\n",
        "X = tfidf.fit_transform(df['v2'])\n",
        "y = df['v1']\n"
      ]
    },
    {
      "cell_type": "code",
      "execution_count": 15,
      "metadata": {
        "id": "utOYJJkbBvac"
      },
      "outputs": [],
      "source": [
        "# Split the dataset\n",
        "X_train, X_test, y_train, y_test = train_test_split(X, y, test_size=0.2, random_state=42, stratify=y)"
      ]
    },
    {
      "cell_type": "code",
      "execution_count": 16,
      "metadata": {
        "id": "0k0PKcxCBxza"
      },
      "outputs": [],
      "source": [
        "# Train the model\n",
        "model = RandomForestClassifier()\n",
        "model.fit(X_train, y_train)\n",
        "\n",
        "# Predict on test data\n",
        "y_pred = model.predict(X_test)\n",
        "\n",
        "# Evaluate the model\n",
        "report = classification_report(y_test, y_pred)\n",
        "accuracy = accuracy_score(y_test, y_pred)"
      ]
    },
    {
      "cell_type": "code",
      "execution_count": 17,
      "metadata": {
        "colab": {
          "base_uri": "https://localhost:8080/"
        },
        "id": "mJAz-7moB4II",
        "outputId": "172ce4ea-01d9-4b70-970e-21c85ea874ec"
      },
      "outputs": [
        {
          "name": "stdout",
          "output_type": "stream",
          "text": [
            "Classification Report:\n",
            "              precision    recall  f1-score   support\n",
            "\n",
            "           0       0.97      1.00      0.99       966\n",
            "           1       1.00      0.81      0.90       149\n",
            "\n",
            "    accuracy                           0.97      1115\n",
            "   macro avg       0.99      0.91      0.94      1115\n",
            "weighted avg       0.98      0.97      0.97      1115\n",
            "\n",
            "Accuracy: 0.9748878923766816\n"
          ]
        },
        {
          "data": {
            "text/plain": [
              "['tfidf_vectorizer.joblib']"
            ]
          },
          "execution_count": 17,
          "metadata": {},
          "output_type": "execute_result"
        }
      ],
      "source": [
        "\n",
        "print(f'Classification Report:\\n{report}')\n",
        "print(f'Accuracy: {accuracy}')\n",
        "\n",
        "# Save the model and the vectorizer\n",
        "joblib.dump(model, 'spam_classifier_model.joblib')\n",
        "joblib.dump(tfidf, 'tfidf_vectorizer.joblib')"
      ]
    },
    {
      "cell_type": "code",
      "execution_count": 19,
      "metadata": {
        "colab": {
          "base_uri": "https://localhost:8080/"
        },
        "id": "6UIyW011CMZj",
        "outputId": "d7bb63d2-f056-4e32-cf1c-925c029f5ba1"
      },
      "outputs": [
        {
          "name": "stdout",
          "output_type": "stream",
          "text": [
            "The message is: ham\n"
          ]
        }
      ],
      "source": [
        "# Function to predict user input\n",
        "def predict_message(message):\n",
        "    # Load the model and vectorizer\n",
        "    model = joblib.load('spam_classifier_model.joblib')\n",
        "    tfidf = joblib.load('tfidf_vectorizer.joblib')\n",
        "\n",
        "    # Preprocess the message\n",
        "    message = preprocess_text(message)\n",
        "\n",
        "    # Transform the message using the TF-IDF vectorizer\n",
        "    message_transformed = tfidf.transform([message])\n",
        "\n",
        "    # Predict using the model\n",
        "    prediction = model.predict(message_transformed)\n",
        "\n",
        "    # Convert the prediction back to ham or spam\n",
        "    return 'spam' if prediction[0] == 1 else 'ham'\n",
        "\n",
        "# Example usage\n",
        "user_input = \"Hello sree... will catch up at 9 pm.\"\n",
        "prediction = predict_message(user_input)\n",
        "print(f\"The message is: {prediction}\")"
      ]
    }
  ],
  "metadata": {
    "colab": {
      "name": "Welcome To Colab",
      "provenance": []
    },
    "kernelspec": {
      "display_name": "Python 3",
      "name": "python3"
    }
  },
  "nbformat": 4,
  "nbformat_minor": 0
}
